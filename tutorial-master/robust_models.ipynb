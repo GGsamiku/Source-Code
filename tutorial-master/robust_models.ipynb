{
 "cells": [
  {
   "cell_type": "markdown",
   "metadata": {},
   "source": [
    "## M-Estimators for Robust Linear Modeling"
   ]
  },
  {
   "cell_type": "code",
   "execution_count": 9,
   "metadata": {
    "collapsed": false
   },
   "outputs": [
    {
     "name": "stderr",
     "output_type": "stream",
     "text": [
      "/Users/gyg/anaconda/lib/python2.7/site-packages/statsmodels/compat/pandas.py:56: FutureWarning: The pandas.core.datetools module is deprecated and will be removed in a future version. Please use the pandas.tseries module instead.\n",
      "  from pandas.core import datetools\n"
     ]
    }
   ],
   "source": [
    "import numpy as np\n",
    "from scipy import stats\n",
    "import matplotlib.pyplot as plt\n",
    "\n",
    "import statsmodels.api as sm"
   ]
  },
  {
   "cell_type": "markdown",
   "metadata": {},
   "source": [
    "* An M-estimator minimizes the function \n",
    "\n",
    "$$Q(e_i, \\rho) = \\sum_i~\\rho(\\frac{e_i}{s})$$\n",
    "\n",
    "where $\\rho$ is a symmetric function of the residuals \n",
    "\n",
    "* The effect of $\\rho$ is to reduce the influence of outliers\n",
    "* $s$ is an estimate of scale. \n",
    "* The robust estimates $\\hat{\\beta}$ are computed by the iteratively re-weighted least squares algorithm"
   ]
  },
  {
   "cell_type": "raw",
   "metadata": {},
   "source": [
    "* We have several choices available for the weighting functions to be used"
   ]
  },
  {
   "cell_type": "code",
   "execution_count": null,
   "metadata": {
    "collapsed": false
   },
   "outputs": [],
   "source": [
    "norms = sm.robust.norms"
   ]
  },
  {
   "cell_type": "code",
   "execution_count": null,
   "metadata": {
    "collapsed": false
   },
   "outputs": [],
   "source": [
    "def plot_weights(support, weights_func, xlabels, xticks):\n",
    "    fig = plt.figure(figsize=(12,8))\n",
    "    ax = fig.add_subplot(111)\n",
    "    ax.plot(support, weights_func(support))\n",
    "    ax.set_xticks(xticks)\n",
    "    ax.set_xticklabels(xlabels, fontsize=16)\n",
    "    ax.set_ylim(-.1, 1.1)\n",
    "    return ax"
   ]
  },
  {
   "cell_type": "markdown",
   "metadata": {},
   "source": [
    "### Andrew's Wave"
   ]
  },
  {
   "cell_type": "code",
   "execution_count": null,
   "metadata": {
    "collapsed": false
   },
   "outputs": [],
   "source": [
    "help(norms.AndrewWave.weights)"
   ]
  },
  {
   "cell_type": "code",
   "execution_count": null,
   "metadata": {
    "collapsed": false
   },
   "outputs": [],
   "source": [
    "a = 1.339\n",
    "support = np.linspace(-np.pi*a, np.pi*a, 100)\n",
    "andrew = norms.AndrewWave(a=a)\n",
    "plot_weights(support, andrew.weights, ['$-\\pi*a$', '0', '$\\pi*a$'], [-np.pi*a, 0, np.pi*a]);"
   ]
  },
  {
   "cell_type": "markdown",
   "metadata": {},
   "source": [
    "### Hampel's 17A"
   ]
  },
  {
   "cell_type": "code",
   "execution_count": null,
   "metadata": {
    "collapsed": false
   },
   "outputs": [],
   "source": [
    "help(norms.Hampel.weights)"
   ]
  },
  {
   "cell_type": "code",
   "execution_count": null,
   "metadata": {
    "collapsed": false
   },
   "outputs": [],
   "source": [
    "c = 8\n",
    "support = np.linspace(-3*c, 3*c, 1000)\n",
    "hampel = norms.Hampel(a=2., b=4., c=c)\n",
    "plot_weights(support, hampel.weights, ['3*c', '0', '3*c'], [-3*c, 0, 3*c]);"
   ]
  },
  {
   "cell_type": "markdown",
   "metadata": {},
   "source": [
    "### Huber's t"
   ]
  },
  {
   "cell_type": "code",
   "execution_count": null,
   "metadata": {
    "collapsed": false
   },
   "outputs": [],
   "source": [
    "help(norms.HuberT.weights)"
   ]
  },
  {
   "cell_type": "code",
   "execution_count": null,
   "metadata": {
    "collapsed": false
   },
   "outputs": [],
   "source": [
    "t = 1.345\n",
    "support = np.linspace(-3*t, 3*t, 1000)\n",
    "huber = norms.HuberT(t=t)\n",
    "plot_weights(support, huber.weights, ['-3*t', '0', '3*t'], [-3*t, 0, 3*t]);"
   ]
  },
  {
   "cell_type": "markdown",
   "metadata": {},
   "source": [
    "### Least Squares"
   ]
  },
  {
   "cell_type": "code",
   "execution_count": null,
   "metadata": {
    "collapsed": false
   },
   "outputs": [],
   "source": [
    "help(norms.LeastSquares.weights)"
   ]
  },
  {
   "cell_type": "code",
   "execution_count": null,
   "metadata": {
    "collapsed": false
   },
   "outputs": [],
   "source": [
    "support = np.linspace(-3, 3, 1000)\n",
    "lst_sq = norms.LeastSquares()\n",
    "plot_weights(support, lst_sq.weights, ['-3', '0', '3'], [-3, 0, 3]);"
   ]
  },
  {
   "cell_type": "markdown",
   "metadata": {},
   "source": [
    "### Ramsay's Ea"
   ]
  },
  {
   "cell_type": "code",
   "execution_count": null,
   "metadata": {
    "collapsed": false
   },
   "outputs": [],
   "source": [
    "help(norms.RamsayE.weights)"
   ]
  },
  {
   "cell_type": "code",
   "execution_count": null,
   "metadata": {
    "collapsed": false
   },
   "outputs": [],
   "source": [
    "a = .3\n",
    "support = np.linspace(-3*a, 3*a, 1000)\n",
    "ramsay = norms.RamsayE(a=a)\n",
    "plot_weights(support, ramsay.weights, ['-3*a', '0', '3*a'], [-3*a, 0, 3*a]);"
   ]
  },
  {
   "cell_type": "markdown",
   "metadata": {},
   "source": [
    "### Trimmed Mean"
   ]
  },
  {
   "cell_type": "code",
   "execution_count": null,
   "metadata": {
    "collapsed": false
   },
   "outputs": [],
   "source": [
    "help(norms.TrimmedMean.weights)"
   ]
  },
  {
   "cell_type": "code",
   "execution_count": null,
   "metadata": {
    "collapsed": false
   },
   "outputs": [],
   "source": [
    "c = 2\n",
    "support = np.linspace(-3*c, 3*c, 1000)\n",
    "trimmed = norms.TrimmedMean(c=c)\n",
    "plot_weights(support, trimmed.weights, ['-3*c', '0', '3*c'], [-3*c, 0, 3*c]);"
   ]
  },
  {
   "cell_type": "markdown",
   "metadata": {},
   "source": [
    "### Tukey's Biweight"
   ]
  },
  {
   "cell_type": "code",
   "execution_count": null,
   "metadata": {
    "collapsed": false
   },
   "outputs": [],
   "source": [
    "help(norms.TukeyBiweight.weights)"
   ]
  },
  {
   "cell_type": "code",
   "execution_count": null,
   "metadata": {
    "collapsed": false
   },
   "outputs": [],
   "source": [
    "c = 4.685\n",
    "support = np.linspace(-3*c, 3*c, 1000)\n",
    "tukey = norms.TukeyBiweight(c=c)\n",
    "plot_weights(support, tukey.weights, ['-3*c', '0', '3*c'], [-3*c, 0, 3*c]);"
   ]
  },
  {
   "cell_type": "markdown",
   "metadata": {},
   "source": [
    "### Scale Estimators"
   ]
  },
  {
   "cell_type": "raw",
   "metadata": {},
   "source": [
    "* Robust estimates of the location"
   ]
  },
  {
   "cell_type": "code",
   "execution_count": 2,
   "metadata": {
    "collapsed": false
   },
   "outputs": [],
   "source": [
    "x = np.array([1, 2, 3, 4, 500])"
   ]
  },
  {
   "cell_type": "markdown",
   "metadata": {},
   "source": [
    "* The mean is not a robust estimator of location"
   ]
  },
  {
   "cell_type": "code",
   "execution_count": 3,
   "metadata": {
    "collapsed": false
   },
   "outputs": [
    {
     "data": {
      "text/plain": [
       "102.0"
      ]
     },
     "execution_count": 3,
     "metadata": {},
     "output_type": "execute_result"
    }
   ],
   "source": [
    "x.mean()"
   ]
  },
  {
   "cell_type": "markdown",
   "metadata": {},
   "source": [
    "* The median, on the other hand, is a robust estimator with a breakdown point of 50%"
   ]
  },
  {
   "cell_type": "code",
   "execution_count": 4,
   "metadata": {
    "collapsed": false
   },
   "outputs": [
    {
     "data": {
      "text/plain": [
       "3.0"
      ]
     },
     "execution_count": 4,
     "metadata": {},
     "output_type": "execute_result"
    }
   ],
   "source": [
    "np.median(x)"
   ]
  },
  {
   "cell_type": "raw",
   "metadata": {},
   "source": [
    "* Analagously for the scale\n",
    "* The standard deviation is not robust"
   ]
  },
  {
   "cell_type": "code",
   "execution_count": 5,
   "metadata": {
    "collapsed": false
   },
   "outputs": [
    {
     "data": {
      "text/plain": [
       "199.00251254695254"
      ]
     },
     "execution_count": 5,
     "metadata": {},
     "output_type": "execute_result"
    }
   ],
   "source": [
    "x.std()"
   ]
  },
  {
   "cell_type": "markdown",
   "metadata": {},
   "source": [
    "Median Absolute Deviation\n",
    "\n",
    "$$ median_i |X_i - median_j(X_j)|) $$"
   ]
  },
  {
   "cell_type": "markdown",
   "metadata": {},
   "source": [
    "Standardized Median Absolute Deviation is a consistent estimator for $\\hat{\\sigma}$\n",
    "\n",
    "$$\\hat{\\sigma}=K \\cdot MAD$$\n",
    "\n",
    "where $K$ depends on the distribution. For the normal distribution for example,\n",
    "\n",
    "$$K = \\Phi^{-1}(.75)$$"
   ]
  },
  {
   "cell_type": "code",
   "execution_count": 6,
   "metadata": {
    "collapsed": false
   },
   "outputs": [
    {
     "ename": "NameError",
     "evalue": "name 'stats' is not defined",
     "output_type": "error",
     "traceback": [
      "\u001b[0;31m---------------------------------------------------------------------------\u001b[0m",
      "\u001b[0;31mNameError\u001b[0m                                 Traceback (most recent call last)",
      "\u001b[0;32m<ipython-input-6-0ab48411e14c>\u001b[0m in \u001b[0;36m<module>\u001b[0;34m()\u001b[0m\n\u001b[0;32m----> 1\u001b[0;31m \u001b[0mstats\u001b[0m\u001b[0;34m.\u001b[0m\u001b[0mnorm\u001b[0m\u001b[0;34m.\u001b[0m\u001b[0mppf\u001b[0m\u001b[0;34m(\u001b[0m\u001b[0;36m.75\u001b[0m\u001b[0;34m)\u001b[0m\u001b[0;34m\u001b[0m\u001b[0m\n\u001b[0m",
      "\u001b[0;31mNameError\u001b[0m: name 'stats' is not defined"
     ]
    }
   ],
   "source": [
    "stats.norm.ppf(.75)"
   ]
  },
  {
   "cell_type": "code",
   "execution_count": 7,
   "metadata": {
    "collapsed": false
   },
   "outputs": [
    {
     "name": "stdout",
     "output_type": "stream",
     "text": [
      "[  1   2   3   4 500]\n"
     ]
    }
   ],
   "source": [
    "print x"
   ]
  },
  {
   "cell_type": "code",
   "execution_count": 10,
   "metadata": {
    "collapsed": false
   },
   "outputs": [
    {
     "name": "stderr",
     "output_type": "stream",
     "text": [
      "/Users/gyg/anaconda/lib/python2.7/site-packages/statsmodels/robust/scale.py:49: FutureWarning: stand_mad is deprecated and will be removed in 0.7.0. Use mad instead.\n",
      "  \"instead.\", FutureWarning)\n"
     ]
    },
    {
     "data": {
      "text/plain": [
       "1.482602218505602"
      ]
     },
     "execution_count": 10,
     "metadata": {},
     "output_type": "execute_result"
    }
   ],
   "source": [
    "sm.robust.scale.stand_mad(x)"
   ]
  },
  {
   "cell_type": "code",
   "execution_count": null,
   "metadata": {
    "collapsed": false
   },
   "outputs": [],
   "source": [
    "np.array([1,2,3,4,5.]).std()"
   ]
  },
  {
   "cell_type": "raw",
   "metadata": {},
   "source": [
    "* The default for Robust Linear Models is MAD\n",
    "* another popular choice is Huber's proposal 2"
   ]
  },
  {
   "cell_type": "code",
   "execution_count": 16,
   "metadata": {
    "collapsed": false
   },
   "outputs": [],
   "source": [
    "np.random.seed(12345)\n",
    "fat_tails = stats.t(6).rvs(40)"
   ]
  },
  {
   "cell_type": "code",
   "execution_count": 18,
   "metadata": {
    "collapsed": false
   },
   "outputs": [
    {
     "data": {
      "image/png": "[encoded data removed]",
      "text/plain": [
       "<matplotlib.figure.Figure at 0x10ff7cd10>"
      ]
     },
     "metadata": {},
     "output_type": "display_data"
    },
    {
     "data": {
      "image/png": "[encoded data removed]",
      "text/plain": [
       "<matplotlib.figure.Figure at 0x113368190>"
      ]
     },
     "metadata": {},
     "output_type": "display_data"
    },
    {
     "data": {
      "image/png": "[encoded data removed]",
      "text/plain": [
       "<matplotlib.figure.Figure at 0x1133f7110>"
      ]
     },
     "metadata": {},
     "output_type": "display_data"
    },
    {
     "data": {
      "image/png": "[encoded data removed]",
      "text/plain": [
       "<matplotlib.figure.Figure at 0x113479f50>"
      ]
     },
     "metadata": {},
     "output_type": "display_data"
    }
   ],
   "source": [
    "kde = sm.nonparametric.KDEUnivariate(fat_tails)\n",
    "kde.fit()\n",
    "fig = plt.figure(figsize=(12,8))\n",
    "ax = fig.add_subplot(111)\n",
    "ax.plot(kde.support, kde.density);\n",
    "plt.show()"
   ]
  },
  {
   "cell_type": "code",
   "execution_count": null,
   "metadata": {
    "collapsed": false
   },
   "outputs": [],
   "source": [
    "print fat_tails.mean(), fat_tails.std()"
   ]
  },
  {
   "cell_type": "code",
   "execution_count": 19,
   "metadata": {
    "collapsed": false
   },
   "outputs": [
    {
     "name": "stdout",
     "output_type": "stream",
     "text": [
      "(0.068823104481087499, 1.3471633229698652)\n"
     ]
    }
   ],
   "source": [
    "print stats.norm.fit(fat_tails)"
   ]
  },
  {
   "cell_type": "code",
   "execution_count": 20,
   "metadata": {
    "collapsed": false
   },
   "outputs": [
    {
     "name": "stdout",
     "output_type": "stream",
     "text": [
      "(6, 0.039009187170278181, 1.0564230978488927)\n"
     ]
    }
   ],
   "source": [
    "print stats.t.fit(fat_tails, f0=6)"
   ]
  },
  {
   "cell_type": "code",
   "execution_count": 21,
   "metadata": {
    "collapsed": false
   },
   "outputs": [
    {
     "name": "stdout",
     "output_type": "stream",
     "text": [
      "0.0404898433327 1.15571400476\n"
     ]
    }
   ],
   "source": [
    "huber = sm.robust.scale.Huber()\n",
    "loc, scale = huber(fat_tails)\n",
    "print loc, scale"
   ]
  },
  {
   "cell_type": "code",
   "execution_count": 23,
   "metadata": {
    "collapsed": false
   },
   "outputs": [
    {
     "data": {
      "text/plain": [
       "1.1153350011654151"
      ]
     },
     "execution_count": 23,
     "metadata": {},
     "output_type": "execute_result"
    }
   ],
   "source": [
    "sm.robust.stand_mad(fat_tails)"
   ]
  },
  {
   "cell_type": "code",
   "execution_count": 22,
   "metadata": {
    "collapsed": false
   },
   "outputs": [
    {
     "data": {
      "text/plain": [
       "1.0483916565928972"
      ]
     },
     "execution_count": 22,
     "metadata": {},
     "output_type": "execute_result"
    }
   ],
   "source": [
    "sm.robust.stand_mad(fat_tails, c=stats.t(6).ppf(.75))"
   ]
  },
  {
   "cell_type": "code",
   "execution_count": 24,
   "metadata": {
    "collapsed": false
   },
   "outputs": [
    {
     "data": {
      "text/plain": [
       "1.1153350011654151"
      ]
     },
     "execution_count": 24,
     "metadata": {},
     "output_type": "execute_result"
    }
   ],
   "source": [
    "sm.robust.scale.mad(fat_tails)"
   ]
  },
  {
   "cell_type": "markdown",
   "metadata": {},
   "source": [
    "### Duncan's Occupational Prestige data - M-estimation for outliers"
   ]
  },
  {
   "cell_type": "code",
   "execution_count": 25,
   "metadata": {
    "collapsed": false
   },
   "outputs": [],
   "source": [
    "from statsmodels.graphics.api import abline_plot\n",
    "from statsmodels.formula.api import ols, rlm"
   ]
  },
  {
   "cell_type": "code",
   "execution_count": 26,
   "metadata": {
    "collapsed": false
   },
   "outputs": [],
   "source": [
    "prestige = sm.datasets.get_rdataset(\"Duncan\", \"car\", cache=True).data"
   ]
  },
  {
   "cell_type": "code",
   "execution_count": 27,
   "metadata": {
    "collapsed": false
   },
   "outputs": [
    {
     "name": "stdout",
     "output_type": "stream",
     "text": [
      "            type  income  education  prestige\n",
      "accountant  prof      62         86        82\n",
      "pilot       prof      72         76        83\n",
      "architect   prof      75         92        90\n",
      "author      prof      55         90        76\n",
      "chemist     prof      64         86        90\n",
      "minister    prof      21         84        87\n",
      "professor   prof      64         93        93\n",
      "dentist     prof      80        100        90\n",
      "reporter      wc      67         87        52\n",
      "engineer    prof      72         86        88\n"
     ]
    }
   ],
   "source": [
    "print prestige.head(10)"
   ]
  },
  {
   "cell_type": "code",
   "execution_count": 28,
   "metadata": {
    "collapsed": false
   },
   "outputs": [
    {
     "name": "stderr",
     "output_type": "stream",
     "text": [
      "/Users/gyg/anaconda/lib/python2.7/site-packages/ipykernel/__main__.py:4: DeprecationWarning: \n",
      ".ix is deprecated. Please use\n",
      ".loc for label based indexing or\n",
      ".iloc for positional indexing\n",
      "\n",
      "See the documentation here:\n",
      "http://pandas.pydata.org/pandas-docs/stable/indexing.html#deprecate_ix\n"
     ]
    }
   ],
   "source": [
    "fig = plt.figure(figsize=(12,12))\n",
    "ax1 = fig.add_subplot(211, xlabel='Income', ylabel='Prestige')\n",
    "ax1.scatter(prestige.income, prestige.prestige)\n",
    "xy_outlier = prestige.ix['minister'][['income','prestige']]\n",
    "ax1.annotate('Minister', xy_outlier, xy_outlier+1, fontsize=16)\n",
    "ax2 = fig.add_subplot(212, xlabel='Education',\n",
    "                           ylabel='Prestige')\n",
    "ax2.scatter(prestige.education, prestige.prestige);"
   ]
  },
  {
   "cell_type": "code",
   "execution_count": 29,
   "metadata": {
    "collapsed": false
   },
   "outputs": [
    {
     "name": "stdout",
     "output_type": "stream",
     "text": [
      "                            OLS Regression Results                            \n",
      "==============================================================================\n",
      "Dep. Variable:               prestige   R-squared:                       0.828\n",
      "Model:                            OLS   Adj. R-squared:                  0.820\n",
      "Method:                 Least Squares   F-statistic:                     101.2\n",
      "Date:                Wed, 28 Jun 2017   Prob (F-statistic):           8.65e-17\n",
      "Time:                        00:01:24   Log-Likelihood:                -178.98\n",
      "No. Observations:                  45   AIC:                             364.0\n",
      "Df Residuals:                      42   BIC:                             369.4\n",
      "Df Model:                           2                                         \n",
      "Covariance Type:            nonrobust                                         \n",
      "==============================================================================\n",
      "                 coef    std err          t      P>|t|      [0.025      0.975]\n",
      "------------------------------------------------------------------------------\n",
      "Intercept     -6.0647      4.272     -1.420      0.163     -14.686       2.556\n",
      "income         0.5987      0.120      5.003      0.000       0.357       0.840\n",
      "education      0.5458      0.098      5.555      0.000       0.348       0.744\n",
      "==============================================================================\n",
      "Omnibus:                        1.279   Durbin-Watson:                   1.458\n",
      "Prob(Omnibus):                  0.528   Jarque-Bera (JB):                0.520\n",
      "Skew:                           0.155   Prob(JB):                        0.771\n",
      "Kurtosis:                       3.426   Cond. No.                         163.\n",
      "==============================================================================\n",
      "\n",
      "Warnings:\n",
      "[1] Standard Errors assume that the covariance matrix of the errors is correctly specified.\n"
     ]
    }
   ],
   "source": [
    "ols_model = ols('prestige ~ income + education', prestige).fit()\n",
    "print ols_model.summary()"
   ]
  },
  {
   "cell_type": "code",
   "execution_count": 34,
   "metadata": {
    "collapsed": false,
    "scrolled": true
   },
   "outputs": [
    {
     "name": "stdout",
     "output_type": "stream",
     "text": [
      "accountant            0.303900\n",
      "pilot                 0.340920\n",
      "architect             0.072256\n",
      "author                0.000711\n",
      "chemist               0.826578\n",
      "minister              3.134519\n",
      "professor             0.768277\n",
      "dentist              -0.498082\n",
      "reporter             -2.397022\n",
      "engineer              0.306225\n",
      "undertaker           -0.187339\n",
      "lawyer               -0.303082\n",
      "physician             0.355687\n",
      "welfare.worker       -0.411406\n",
      "teacher               0.050510\n",
      "conductor            -1.704032\n",
      "contractor            2.043805\n",
      "factory.owner         1.602429\n",
      "store.manager         0.142425\n",
      "banker                0.508388\n",
      "bookkeeper           -0.902388\n",
      "mail.carrier         -1.433249\n",
      "insurance.agent      -1.930919\n",
      "store.clerk          -1.760491\n",
      "carpenter             1.068858\n",
      "electrician           0.731949\n",
      "RR.engineer           0.808922\n",
      "machinist             1.887047\n",
      "auto.repairman        0.522735\n",
      "plumber              -0.377954\n",
      "gas.stn.attendant    -0.666596\n",
      "coal.miner            1.018527\n",
      "streetcar.motorman   -1.104485\n",
      "taxi.driver           0.023322\n",
      "truck.driver         -0.129227\n",
      "machine.operator      0.499922\n",
      "barber                0.173805\n",
      "bartender            -0.902422\n",
      "shoe.shiner          -0.429357\n",
      "cook                  0.127207\n",
      "soda.clerk           -0.883095\n",
      "watchman             -0.513502\n",
      "janitor              -0.079890\n",
      "policeman             0.078847\n",
      "waiter               -0.475972\n",
      "Name: student_resid, dtype: float64\n"
     ]
    }
   ],
   "source": [
    "infl = ols_model.get_influence()\n",
    "student = infl.summary_frame().student_resid\n",
    "print student"
   ]
  },
  {
   "cell_type": "code",
   "execution_count": 31,
   "metadata": {
    "collapsed": false
   },
   "outputs": [
    {
     "name": "stdout",
     "output_type": "stream",
     "text": [
      "minister      3.134519\n",
      "reporter     -2.397022\n",
      "contractor    2.043805\n",
      "Name: student_resid, dtype: float64\n"
     ]
    },
    {
     "name": "stderr",
     "output_type": "stream",
     "text": [
      "/Users/gyg/anaconda/lib/python2.7/site-packages/ipykernel/__main__.py:1: DeprecationWarning: \n",
      ".ix is deprecated. Please use\n",
      ".loc for label based indexing or\n",
      ".iloc for positional indexing\n",
      "\n",
      "See the documentation here:\n",
      "http://pandas.pydata.org/pandas-docs/stable/indexing.html#deprecate_ix\n",
      "  if __name__ == '__main__':\n"
     ]
    }
   ],
   "source": [
    "print student.ix[np.abs(student) > 2]"
   ]
  },
  {
   "cell_type": "code",
   "execution_count": 32,
   "metadata": {
    "collapsed": false
   },
   "outputs": [
    {
     "name": "stdout",
     "output_type": "stream",
     "text": [
      "dfb_Intercept      0.144937\n",
      "dfb_income        -1.220939\n",
      "dfb_education      1.263019\n",
      "cooks_d            0.566380\n",
      "dffits             1.433935\n",
      "dffits_internal    1.303510\n",
      "hat_diag           0.173058\n",
      "standard_resid     2.849416\n",
      "student_resid      3.134519\n",
      "Name: minister, dtype: float64\n"
     ]
    },
    {
     "name": "stderr",
     "output_type": "stream",
     "text": [
      "/Users/gyg/anaconda/lib/python2.7/site-packages/ipykernel/__main__.py:1: DeprecationWarning: \n",
      ".ix is deprecated. Please use\n",
      ".loc for label based indexing or\n",
      ".iloc for positional indexing\n",
      "\n",
      "See the documentation here:\n",
      "http://pandas.pydata.org/pandas-docs/stable/indexing.html#deprecate_ix\n",
      "  if __name__ == '__main__':\n"
     ]
    }
   ],
   "source": [
    "print infl.summary_frame().ix['minister']"
   ]
  },
  {
   "cell_type": "code",
   "execution_count": 35,
   "metadata": {
    "collapsed": false
   },
   "outputs": [
    {
     "name": "stdout",
     "output_type": "stream",
     "text": [
      "                    student_resid   unadj_p  sidak(p)\n",
      "minister                 3.134519  0.003177  0.133421\n",
      "reporter                -2.397022  0.021170  0.618213\n",
      "contractor               2.043805  0.047433  0.887721\n",
      "insurance.agent         -1.930919  0.060428  0.939485\n",
      "machinist                1.887047  0.066248  0.954247\n",
      "store.clerk             -1.760491  0.085783  0.982331\n",
      "conductor               -1.704032  0.095944  0.989315\n",
      "factory.owner            1.602429  0.116738  0.996250\n",
      "mail.carrier            -1.433249  0.159369  0.999595\n",
      "streetcar.motorman      -1.104485  0.275823  1.000000\n",
      "carpenter                1.068858  0.291386  1.000000\n",
      "coal.miner               1.018527  0.314400  1.000000\n",
      "bartender               -0.902422  0.372104  1.000000\n",
      "bookkeeper              -0.902388  0.372122  1.000000\n",
      "soda.clerk              -0.883095  0.382334  1.000000\n",
      "chemist                  0.826578  0.413261  1.000000\n",
      "RR.engineer              0.808922  0.423229  1.000000\n",
      "professor                0.768277  0.446725  1.000000\n",
      "electrician              0.731949  0.468363  1.000000\n",
      "gas.stn.attendant       -0.666596  0.508764  1.000000\n",
      "auto.repairman           0.522735  0.603972  1.000000\n",
      "watchman                -0.513502  0.610357  1.000000\n",
      "banker                   0.508388  0.613906  1.000000\n",
      "machine.operator         0.499922  0.619802  1.000000\n",
      "dentist                 -0.498082  0.621088  1.000000\n",
      "waiter                  -0.475972  0.636621  1.000000\n",
      "shoe.shiner             -0.429357  0.669912  1.000000\n",
      "welfare.worker          -0.411406  0.682918  1.000000\n",
      "plumber                 -0.377954  0.707414  1.000000\n",
      "physician                0.355687  0.723898  1.000000\n",
      "pilot                    0.340920  0.734905  1.000000\n",
      "engineer                 0.306225  0.760983  1.000000\n",
      "accountant               0.303900  0.762741  1.000000\n",
      "lawyer                  -0.303082  0.763360  1.000000\n",
      "undertaker              -0.187339  0.852319  1.000000\n",
      "barber                   0.173805  0.862874  1.000000\n",
      "store.manager            0.142425  0.887442  1.000000\n",
      "truck.driver            -0.129227  0.897810  1.000000\n",
      "cook                     0.127207  0.899399  1.000000\n",
      "janitor                 -0.079890  0.936713  1.000000\n",
      "policeman                0.078847  0.937538  1.000000\n",
      "architect                0.072256  0.942750  1.000000\n",
      "teacher                  0.050510  0.959961  1.000000\n",
      "taxi.driver              0.023322  0.981507  1.000000\n",
      "author                   0.000711  0.999436  1.000000\n"
     ]
    }
   ],
   "source": [
    "sidak = ols_model.outlier_test('sidak')\n",
    "sidak.sort_values('unadj_p', inplace=True)\n",
    "print sidak"
   ]
  },
  {
   "cell_type": "code",
   "execution_count": null,
   "metadata": {
    "collapsed": false
   },
   "outputs": [],
   "source": [
    "fdr = ols_model.outlier_test('fdr_bh')\n",
    "fdr.sort('unadj_p', inplace=True)\n",
    "print fdr"
   ]
  },
  {
   "cell_type": "code",
   "execution_count": null,
   "metadata": {
    "collapsed": false
   },
   "outputs": [],
   "source": [
    "rlm_model = rlm('prestige ~ income + education', prestige).fit()\n",
    "print rlm_model.summary()"
   ]
  },
  {
   "cell_type": "code",
   "execution_count": null,
   "metadata": {
    "collapsed": false
   },
   "outputs": [],
   "source": [
    "print rlm_model.weights"
   ]
  },
  {
   "cell_type": "markdown",
   "metadata": {},
   "source": [
    "### Hertzprung Russell data for Star Cluster CYG 0B1 - Leverage Points"
   ]
  },
  {
   "cell_type": "markdown",
   "metadata": {},
   "source": [
    "* Data is on the luminosity and temperature of 47 stars in the direction of Cygnus."
   ]
  },
  {
   "cell_type": "code",
   "execution_count": null,
   "metadata": {
    "collapsed": false
   },
   "outputs": [],
   "source": [
    "dta = sm.datasets.get_rdataset(\"starsCYG\", \"robustbase\", cache=True).data"
   ]
  },
  {
   "cell_type": "code",
   "execution_count": null,
   "metadata": {
    "collapsed": false
   },
   "outputs": [],
   "source": [
    "from matplotlib.patches import Ellipse\n",
    "fig = plt.figure(figsize=(12,8))\n",
    "ax = fig.add_subplot(111, xlabel='log(Temp)', ylabel='log(Light)', title='Hertzsprung-Russell Diagram of Star Cluster CYG OB1')\n",
    "ax.scatter(*dta.values.T)\n",
    "# highlight outliers\n",
    "e = Ellipse((3.5, 6), .2, 1, alpha=.25, color='r')\n",
    "ax.add_patch(e);\n",
    "ax.annotate('Red giants', xy=(3.6, 6), xytext=(3.8, 6),\n",
    "            arrowprops=dict(facecolor='black', shrink=0.05, width=2),\n",
    "            horizontalalignment='left', verticalalignment='bottom',\n",
    "            clip_on=True, # clip to the axes bounding box\n",
    "            fontsize=16,\n",
    "     )\n",
    "# annotate these with their index\n",
    "for i,row in dta.ix[dta['log.Te'] < 3.8].iterrows():\n",
    "    ax.annotate(i, row, row + .01, fontsize=14)\n",
    "xlim, ylim = ax.get_xlim(), ax.get_ylim()"
   ]
  },
  {
   "cell_type": "code",
   "execution_count": null,
   "metadata": {
    "collapsed": false
   },
   "outputs": [],
   "source": [
    "from IPython.display import Image\n",
    "Image(filename='star_diagram.png')"
   ]
  },
  {
   "cell_type": "code",
   "execution_count": null,
   "metadata": {
    "collapsed": false
   },
   "outputs": [],
   "source": [
    "y = dta['log.light']\n",
    "X = sm.add_constant(dta['log.Te'], prepend=True)\n",
    "ols_model = sm.OLS(y, X).fit()\n",
    "abline_plot(model_results=ols_model, ax=ax)"
   ]
  },
  {
   "cell_type": "code",
   "execution_count": null,
   "metadata": {
    "collapsed": false
   },
   "outputs": [],
   "source": [
    "rlm_mod = sm.RLM(y, X, sm.robust.norms.TrimmedMean(.5)).fit()\n",
    "abline_plot(model_results=rlm_mod, ax=ax, color='red')"
   ]
  },
  {
   "cell_type": "markdown",
   "metadata": {},
   "source": [
    "* Why? Because M-estimators are not robust to leverage points."
   ]
  },
  {
   "cell_type": "code",
   "execution_count": null,
   "metadata": {
    "collapsed": false
   },
   "outputs": [],
   "source": [
    "infl = ols_model.get_influence()"
   ]
  },
  {
   "cell_type": "code",
   "execution_count": null,
   "metadata": {
    "collapsed": false
   },
   "outputs": [],
   "source": [
    "h_bar = 2*(ols_model.df_model + 1 )/ols_model.nobs\n",
    "hat_diag = infl.summary_frame()['hat_diag']\n",
    "hat_diag.ix[hat_diag > h_bar]"
   ]
  },
  {
   "cell_type": "code",
   "execution_count": null,
   "metadata": {
    "collapsed": false
   },
   "outputs": [],
   "source": [
    "sidak2 = ols_model.outlier_test('sidak')\n",
    "sidak2.sort('unadj_p', inplace=True)\n",
    "print sidak2"
   ]
  },
  {
   "cell_type": "code",
   "execution_count": null,
   "metadata": {
    "collapsed": false
   },
   "outputs": [],
   "source": [
    "fdr2 = ols_model.outlier_test('fdr_bh')\n",
    "fdr2.sort('unadj_p', inplace=True)\n",
    "print fdr2"
   ]
  },
  {
   "cell_type": "markdown",
   "metadata": {},
   "source": [
    "* Let's delete that line"
   ]
  },
  {
   "cell_type": "code",
   "execution_count": null,
   "metadata": {
    "collapsed": false
   },
   "outputs": [],
   "source": [
    "del ax.lines[-1]"
   ]
  },
  {
   "cell_type": "code",
   "execution_count": null,
   "metadata": {
    "collapsed": false
   },
   "outputs": [],
   "source": [
    "weights = np.ones(len(X))\n",
    "weights[X[X['log.Te'] < 3.8].index.values - 1] = 0\n",
    "wls_model = sm.WLS(y, X, weights=weights).fit()\n",
    "abline_plot(model_results=wls_model, ax=ax, color='green')"
   ]
  },
  {
   "cell_type": "markdown",
   "metadata": {},
   "source": [
    "* MM estimators are good for this type of problem, unfortunately, we don't yet have these yet. \n",
    "* It's being worked on, but it gives a good excuse to look at the R cell magics in the notebook."
   ]
  },
  {
   "cell_type": "code",
   "execution_count": null,
   "metadata": {
    "collapsed": false
   },
   "outputs": [],
   "source": [
    "yy = y.values[:,None]\n",
    "xx = X['log.Te'].values[:,None]"
   ]
  },
  {
   "cell_type": "code",
   "execution_count": null,
   "metadata": {
    "collapsed": false
   },
   "outputs": [],
   "source": [
    "%load_ext rmagic\n",
    "\n",
    "%R library(robustbase)\n",
    "%Rpush yy xx\n",
    "%R mod <- lmrob(yy ~ xx);\n",
    "%R params <- mod$coefficients;\n",
    "%Rpull params"
   ]
  },
  {
   "cell_type": "code",
   "execution_count": null,
   "metadata": {
    "collapsed": false
   },
   "outputs": [],
   "source": [
    "%R print(mod)"
   ]
  },
  {
   "cell_type": "code",
   "execution_count": null,
   "metadata": {
    "collapsed": false
   },
   "outputs": [],
   "source": [
    "print params"
   ]
  },
  {
   "cell_type": "code",
   "execution_count": null,
   "metadata": {
    "collapsed": false
   },
   "outputs": [],
   "source": [
    "abline_plot(intercept=params[0], slope=params[1], ax=ax, color='green')"
   ]
  },
  {
   "cell_type": "markdown",
   "metadata": {},
   "source": [
    "### Exercise: Breakdown points of M-estimator"
   ]
  },
  {
   "cell_type": "code",
   "execution_count": null,
   "metadata": {
    "collapsed": false
   },
   "outputs": [],
   "source": [
    "np.random.seed(12345)\n",
    "nobs = 200\n",
    "beta_true = np.array([3, 1, 2.5, 3, -4])\n",
    "X = np.random.uniform(-20,20, size=(nobs, len(beta_true)-1))\n",
    "# stack a constant in front\n",
    "X = sm.add_constant(X, prepend=True) # np.c_[np.ones(nobs), X]\n",
    "mc_iter = 500\n",
    "contaminate = .25 # percentage of response variables to contaminate"
   ]
  },
  {
   "cell_type": "code",
   "execution_count": null,
   "metadata": {
    "collapsed": false
   },
   "outputs": [],
   "source": [
    "all_betas = []\n",
    "for i in range(mc_iter):\n",
    "    y = np.dot(X, beta_true) + np.random.normal(size=200)\n",
    "    random_idx = np.random.randint(0, nobs, size=int(contaminate * nobs))\n",
    "    y[random_idx] = np.random.uniform(-750, 750) #, size=len(random_idx))\n",
    "    beta_hat = sm.RLM(y, X).fit().params\n",
    "    all_betas.append(beta_hat)"
   ]
  },
  {
   "cell_type": "code",
   "execution_count": null,
   "metadata": {
    "collapsed": false
   },
   "outputs": [],
   "source": [
    "all_betas = np.asarray(all_betas)\n",
    "se_loss = lambda x : np.linalg.norm(x, ord=2)**2\n",
    "se_beta = map(se_loss, all_betas - beta_true)"
   ]
  },
  {
   "cell_type": "markdown",
   "metadata": {},
   "source": [
    "#### Squared error loss"
   ]
  },
  {
   "cell_type": "code",
   "execution_count": null,
   "metadata": {
    "collapsed": false
   },
   "outputs": [],
   "source": [
    "np.array(se_beta).mean()"
   ]
  },
  {
   "cell_type": "code",
   "execution_count": null,
   "metadata": {
    "collapsed": false
   },
   "outputs": [],
   "source": [
    "all_betas.mean(0)"
   ]
  },
  {
   "cell_type": "code",
   "execution_count": null,
   "metadata": {
    "collapsed": false
   },
   "outputs": [],
   "source": [
    "beta_true"
   ]
  },
  {
   "cell_type": "code",
   "execution_count": null,
   "metadata": {
    "collapsed": false
   },
   "outputs": [],
   "source": [
    "se_loss(all_betas.mean(0) - beta_true)"
   ]
  }
 ],
 "metadata": {
  "kernelspec": {
   "display_name": "Python 2",
   "language": "python",
   "name": "python2"
  },
  "language_info": {
   "codemirror_mode": {
    "name": "ipython",
    "version": 2
   },
   "file_extension": ".py",
   "mimetype": "text/x-python",
   "name": "python",
   "nbconvert_exporter": "python",
   "pygments_lexer": "ipython2",
   "version": "2.7.13"
  }
 },
 "nbformat": 4,
 "nbformat_minor": 0
}
